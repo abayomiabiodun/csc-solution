{
  "nbformat": 4,
  "nbformat_minor": 0,
  "metadata": {
    "colab": {
      "name": "Abayomi CSC assignment solution.ipynb",
      "provenance": []
    },
    "kernelspec": {
      "name": "python3",
      "display_name": "Python 3"
    },
    "language_info": {
      "name": "python"
    }
  },
  "cells": [
    {
      "cell_type": "markdown",
      "source": [
        "## 6. Write a python program to solve each of the following \n",
        "### a.Input appropriate data and the areas of the following \n",
        "#### i. a square\n",
        "#### ii. triangle\n",
        "#### iii. a circle \n",
        "### b.Convert temperature reading in Fahrenheit (_F) to Centigrade (_C) \n",
        "### c. Input the name of a person and the time of the day and generate an appropriate greeting\n",
        "#### d. Input the reg.no, name, dept, CGPA and other of a particular student and generates an appropriate output to describe output to describe the student  "
      ],
      "metadata": {
        "id": "Fodu0Vgj97i4"
      }
    },
    {
      "cell_type": "code",
      "source": [
        "## area of square \n",
        "## formula = L X L\n",
        "\n",
        "length = float(input(\"enter any numbers for length: \"))\n",
        "area = length * length\n",
        "print(\"Area of square: \", area)"
      ],
      "metadata": {
        "colab": {
          "base_uri": "https://localhost:8080/",
          "height": 0
        },
        "id": "McPze36W_ieG",
        "outputId": "0abbffd3-54b6-4bc1-f064-d51c0aa53c2f"
      },
      "execution_count": 2,
      "outputs": [
        {
          "output_type": "stream",
          "name": "stdout",
          "text": [
            "enter any numbers for length: 20\n",
            "Area of square:  400.0\n"
          ]
        }
      ]
    },
    {
      "cell_type": "code",
      "source": [
        "## area of triangle\n",
        "## formula = 1/2 X b X h\n",
        "\n",
        "base = float(input(\"Enter any value for base: \"))\n",
        "heigth = float(input(\"enter any value for height: \"))\n",
        "area = (1/2) * base * heigth\n",
        "print(\"The area of triangle is: \", area)"
      ],
      "metadata": {
        "colab": {
          "base_uri": "https://localhost:8080/",
          "height": 0
        },
        "id": "H_Io1_pZAyQx",
        "outputId": "98b72546-a802-4243-e1e1-d48344b10ee9"
      },
      "execution_count": 3,
      "outputs": [
        {
          "output_type": "stream",
          "name": "stdout",
          "text": [
            "Enter any value for base: 2\n",
            "enter any value for height: 4\n",
            "The area of triangle is:  4.0\n"
          ]
        }
      ]
    },
    {
      "cell_type": "code",
      "source": [
        "## area of a  circle\n",
        "## formula = πr^2\n",
        "radius = float(input(\"Enter any value for radius: \"))\n",
        "pie = float(input(\"Enter any value for π: \"))\n",
        "area = pie * ((radius)**2)\n",
        "\n",
        "print(\"Area of a circle is: \", area)"
      ],
      "metadata": {
        "colab": {
          "base_uri": "https://localhost:8080/",
          "height": 0
        },
        "id": "AvzZFxkrA2Fw",
        "outputId": "1a005adf-423f-4777-e013-1803d019ba89"
      },
      "execution_count": 5,
      "outputs": [
        {
          "output_type": "stream",
          "name": "stdout",
          "text": [
            "Enter any value for radius: 6\n",
            "Enter any value for π: 3.14\n",
            "Area of a circle is:  113.04\n"
          ]
        }
      ]
    },
    {
      "cell_type": "code",
      "source": [
        "### Convert temperature reading in Fahrenheit (_F) to Centigrade (_C)\n",
        "## °C = (°F - 32) × 5/9\n",
        "Fahrenheit = float(input(\"Enter any value for Fahrenheit: \"))\n",
        "\n",
        "celsius = (Fahrenheit - 32) * (5/9)\n",
        "\n",
        "print(\"Celsius reading is: \", celsius)"
      ],
      "metadata": {
        "colab": {
          "base_uri": "https://localhost:8080/",
          "height": 0
        },
        "id": "HlqqcoX1A-eU",
        "outputId": "7b712efe-8765-4fb6-e806-65b11f8d4807"
      },
      "execution_count": 7,
      "outputs": [
        {
          "output_type": "stream",
          "name": "stdout",
          "text": [
            "Enter any value for Fahrenheit: 50\n",
            "Celsius reading is:  10.0\n"
          ]
        }
      ]
    },
    {
      "cell_type": "code",
      "source": [
        " \n",
        "### Input the name of a person and the time of the day and generate an appropriate greeting\n",
        "\n",
        "name = input(\"Enter your name: \")\n",
        "time = input(\"Enter the time of the day: \")\n",
        "\n",
        "print(\"Hell0!! \", name, \", the time of the day is \", time, \", You are welcome, we are glad to have you\")"
      ],
      "metadata": {
        "colab": {
          "base_uri": "https://localhost:8080/",
          "height": 0
        },
        "id": "0btDddtZAlKn",
        "outputId": "7cf06244-aea7-47db-d756-d0a98d1cbd7e"
      },
      "execution_count": 9,
      "outputs": [
        {
          "output_type": "stream",
          "name": "stdout",
          "text": [
            "Enter your name: Abayomi\n",
            "Enter the time of the day: Evening\n",
            "Hell0!!  Abayomi , the time of the day is  Evening , You are welcome, we are glad to have you\n"
          ]
        }
      ]
    },
    {
      "cell_type": "code",
      "source": [
        "#### Input the reg.no, name, dept, CGPA and other of a particular student and generates an appropriate output to describe output to describe the student \n",
        "reg_no = input(\"enter your reg number: \")\n",
        "name = input(\"enter your name: \")\n",
        "dept = input(\"enter your dept: \")\n",
        "cgpa = input(\"enter your cgpa: \")\n",
        "faculty = input(\"enter your faculty: \")\n",
        "\n",
        "print(\"Hey \", name, \" with matric number \", reg_no, \" is a student of \", dept, \" department who has a cgpa of \", cgpa, \" from \", faculty, \" faculty\")"
      ],
      "metadata": {
        "colab": {
          "base_uri": "https://localhost:8080/",
          "height": 0
        },
        "id": "vAWm_UVYBH6u",
        "outputId": "4b622d4a-0e86-4d3d-d62a-16a1bba29056"
      },
      "execution_count": 11,
      "outputs": [
        {
          "output_type": "stream",
          "name": "stdout",
          "text": [
            "enter your reg number: MCB/2018/200\n",
            "enter your name: Sola\n",
            "enter your dept: Microbiology\n",
            "enter your cgpa: 5.0\n",
            "enter your faculty: Science\n",
            "Hey  Sola  with matric number  MCB/2018/200  is a student of  Microbiology  department who has a cgpa of  5.0  from  Science  faculty\n"
          ]
        }
      ]
    },
    {
      "cell_type": "markdown",
      "source": [
        "### What values will be output from the following program?\n",
        "#### a1 = 11 = 6.4\n",
        "#### 12 = int(a1*11)\n",
        "#### 13 = cell(a1 * 11)\n",
        "#### a2 = a1**11\n",
        "#### print(11,12,13,a1,a2)"
      ],
      "metadata": {
        "id": "ualOz8qK_mZH"
      }
    },
    {
      "cell_type": "code",
      "source": [
        "a1 = 11 = 6.4\n",
        "12 = int(a1*11)\n",
        "13 = ceil(a1 * 11)\n",
        "a2 = a1**11\n",
        "print(11,12,13,a1,a2)"
      ],
      "metadata": {
        "colab": {
          "base_uri": "https://localhost:8080/",
          "height": 131
        },
        "id": "5oHcpxW4AXM3",
        "outputId": "a76a5160-c1b6-455e-bcad-0ab137daf442"
      },
      "execution_count": 12,
      "outputs": [
        {
          "output_type": "error",
          "ename": "SyntaxError",
          "evalue": "ignored",
          "traceback": [
            "\u001b[0;36m  File \u001b[0;32m\"<ipython-input-12-89996505b6c9>\"\u001b[0;36m, line \u001b[0;32m1\u001b[0m\n\u001b[0;31m    a1 = 11 = 6.4\u001b[0m\n\u001b[0m        ^\u001b[0m\n\u001b[0;31mSyntaxError\u001b[0m\u001b[0;31m:\u001b[0m can't assign to literal\n"
          ]
        }
      ]
    },
    {
      "cell_type": "markdown",
      "source": [
        "## It gave an error, just because number can not be use as variable and you can not assign anything to number  "
      ],
      "metadata": {
        "id": "LgF0t61eLG1l"
      }
    },
    {
      "cell_type": "markdown",
      "source": [
        "## Given two points P1 = (x1:y1) and P2 = (x2:y2) on a Cartesian coordinate plane.\n",
        "## The distance, d, between them is given by the equation \n",
        "## √(x1-x2)^2 + (y1 - y2)^2\n",
        "## Write a python program that input the coordinate values and calculates the distance between any two points P1 and P2. Use your program to calculate the distance between any six points, for example the points (2:3) and (8:-5)"
      ],
      "metadata": {
        "id": "_QMetMIbLsun"
      }
    },
    {
      "cell_type": "code",
      "source": [
        "x1 = float(input(\"enter the value for x1: \"))\n",
        "x2 = float(input(\"enter the value for x2: \"))\n",
        "y1 = float(input(\"enter the value for y1: \"))\n",
        "y2 = float(input(\"enter the value for y2: \"))\n",
        "\n",
        "s = (((x1 - x2)**2) + ((y1 - y2)**2))**0.5\n",
        "print(\"Distance between the two point is: \", s)"
      ],
      "metadata": {
        "colab": {
          "base_uri": "https://localhost:8080/",
          "height": 0
        },
        "id": "bVUFqQbyLls8",
        "outputId": "203c7240-9a0a-4e13-8c1f-ecdd362b294e"
      },
      "execution_count": 13,
      "outputs": [
        {
          "output_type": "stream",
          "name": "stdout",
          "text": [
            "enter the value for x1: 2\n",
            "enter the value for x2: 8\n",
            "enter the value for y1: 3\n",
            "enter the value for y2: -5\n",
            "Distance between the two point is:  10.0\n"
          ]
        }
      ]
    },
    {
      "cell_type": "markdown",
      "source": [
        "## Given base b and height h, the length, l, of a special segment on a parabola can be computed as follows \n",
        "## l = √4h^2 + b^2 + b^2/2hlog(2h+√4h^2 + b^2/b)\n",
        "## write a program to read in the values of base and height, and use the above formula to compute the length of the parabola segment. Note that both base and height values must be positive  "
      ],
      "metadata": {
        "id": "fo4B4ZWzO87B"
      }
    },
    {
      "cell_type": "code",
      "source": [
        "from math import log\n",
        "\n",
        "h = float(input(\"enter any value for h: \"))\n",
        "b = float(input(\"enter any value for b: \"))\n",
        "\n",
        "a = (4*(h**2)) + (b**2)\n",
        "\n",
        "l = a + ((b**2)/2*h)*log((2*h) + a)/b\n",
        "\n",
        "print(\"The length of the parabola segment is: \", l)"
      ],
      "metadata": {
        "colab": {
          "base_uri": "https://localhost:8080/",
          "height": 0
        },
        "id": "v41IE8sjO7bu",
        "outputId": "2beef1d8-f35d-4f94-caf4-8cd1dce0115e"
      },
      "execution_count": 14,
      "outputs": [
        {
          "output_type": "stream",
          "name": "stdout",
          "text": [
            "enter any value for h: 2\n",
            "enter any value for b: 4\n",
            "The length of the parabola segment is:  46.334075753824436\n"
          ]
        }
      ]
    }
  ]
}